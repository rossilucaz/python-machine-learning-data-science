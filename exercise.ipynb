{
 "cells": [
  {
   "cell_type": "markdown",
   "metadata": {},
   "source": [
    "# Exercise 1"
   ]
  },
  {
   "cell_type": "markdown",
   "metadata": {},
   "source": [
    "## 1.1"
   ]
  },
  {
   "cell_type": "code",
   "execution_count": 1,
   "metadata": {},
   "outputs": [],
   "source": [
    "values = []\n",
    "for i in range(2):\n",
    "    value = float(input(f'Enter Value{i+1}: '))\n",
    "    values.append(value)\n"
   ]
  },
  {
   "cell_type": "code",
   "execution_count": 3,
   "metadata": {},
   "outputs": [
    {
     "name": "stdout",
     "output_type": "stream",
     "text": [
      "Addition: 6.0\n",
      "Subtration: -4.0\n",
      "Multiplication: 5.0\n",
      "Division: 0.2\n"
     ]
    }
   ],
   "source": [
    "\n",
    "addition = values[0] + values[1]    \n",
    "subtraction = values[0] - values[1]\n",
    "multiplication = values[0] * values[1]\n",
    "division = values[0] / values[1]\n",
    "print(f'Addition: {addition}\\nSubtration: {subtraction}\\nMultiplication: {multiplication}\\nDivision: {division}')"
   ]
  },
  {
   "cell_type": "markdown",
   "metadata": {},
   "source": [
    "## 1.2"
   ]
  },
  {
   "cell_type": "code",
   "execution_count": 4,
   "metadata": {},
   "outputs": [
    {
     "data": {
      "text/plain": [
       "1.6666666666666667"
      ]
     },
     "execution_count": 4,
     "metadata": {},
     "output_type": "execute_result"
    }
   ],
   "source": [
    "car_consumed = 12 # kilometers per liter\n",
    "time = float(input('Traveling time'))\n",
    "speed = int(input('Average travel speed'))\n",
    "distance = time * speed\n",
    "liter_cosumed = distance / 12\n",
    "liter_cosumed"
   ]
  },
  {
   "cell_type": "markdown",
   "metadata": {},
   "source": [
    "## Exercise 2 "
   ]
  },
  {
   "cell_type": "markdown",
   "metadata": {},
   "source": [
    "## 2.1"
   ]
  },
  {
   "cell_type": "code",
   "execution_count": 103,
   "metadata": {},
   "outputs": [
    {
     "name": "stdout",
     "output_type": "stream",
     "text": [
      "You are a Kid\n"
     ]
    }
   ],
   "source": [
    "age = int(input('Enter your age: ')) #0 12 kid teen 13 17 adulto: +18\n",
    "if age < 0:\n",
    "    print('Enter a valid age')\n",
    "elif age >= 0 and age <= 12:\n",
    "    print('You are a Kid')\n",
    "elif age >= 13 and age <= 17:\n",
    "    print('You are a teenager')\n",
    "else:\n",
    "    print('You are a adult')"
   ]
  },
  {
   "cell_type": "markdown",
   "metadata": {},
   "source": [
    "## 2.2"
   ]
  },
  {
   "cell_type": "code",
   "execution_count": 98,
   "metadata": {},
   "outputs": [],
   "source": [
    "grade = []\n",
    "for i in range(3):\n",
    "    marks = float(input(f'Enter your {i+1} note: '))   \n",
    "    grade.append(marks)"
   ]
  },
  {
   "cell_type": "code",
   "execution_count": 99,
   "metadata": {},
   "outputs": [],
   "source": [
    "average = (grade[0] + grade[1] + grade[2]) / 3"
   ]
  },
  {
   "cell_type": "code",
   "execution_count": 100,
   "metadata": {},
   "outputs": [
    {
     "name": "stdout",
     "output_type": "stream",
     "text": [
      "greater than 10, impossible\n"
     ]
    }
   ],
   "source": [
    "if average < 0:\n",
    "    print(' Sorry, but something wrong with you, grade negative is serious')\n",
    "elif average == 0 and average <= 4:\n",
    "    print('bad you failed')\n",
    "elif average >= 4.1 and average <= 6:\n",
    "    print('ok, now receive a test')\n",
    "elif average >= 7 and average <= 10:\n",
    "    print('great you passed')\n",
    "else:\n",
    "    print('greater than 10, impossible')\n",
    "    "
   ]
  },
  {
   "cell_type": "markdown",
   "metadata": {},
   "source": [
    "# Exercise 3"
   ]
  },
  {
   "cell_type": "markdown",
   "metadata": {},
   "source": [
    "## 3.1"
   ]
  },
  {
   "cell_type": "code",
   "execution_count": null,
   "metadata": {},
   "outputs": [],
   "source": [
    "for i in range(5):\n",
    "    note = float(input(f'Enter with 5 grade {i+1}: '))\n",
    "    mean = note / 5\n",
    "print(mean)\n",
    "\n",
    "\n"
   ]
  },
  {
   "cell_type": "code",
   "execution_count": 6,
   "metadata": {},
   "outputs": [
    {
     "name": "stdout",
     "output_type": "stream",
     "text": [
      "The average is:  7.2\n"
     ]
    }
   ],
   "source": [
    "numbers = 1\n",
    "sum_note = 0\n",
    "while numbers <= 5:\n",
    "    note = float(input('Enter with a grade: '))\n",
    "    sum_note += note\n",
    "    numbers += 1\n",
    "print('The average is: ', sum_note / 5)"
   ]
  },
  {
   "cell_type": "markdown",
   "metadata": {},
   "source": [
    "## 3.2"
   ]
  },
  {
   "cell_type": "code",
   "execution_count": 7,
   "metadata": {},
   "outputs": [
    {
     "name": "stdout",
     "output_type": "stream",
     "text": [
      "3 * 1 = 3\n",
      "3 * 2 = 6\n",
      "3 * 3 = 9\n",
      "3 * 4 = 12\n",
      "3 * 5 = 15\n",
      "3 * 6 = 18\n",
      "3 * 7 = 21\n",
      "3 * 8 = 24\n",
      "3 * 9 = 27\n",
      "3 * 10 = 30\n"
     ]
    }
   ],
   "source": [
    "for i in range(1,11):\n",
    "    print(f'3 * {i} = {i * 3}')\n",
    "    \n"
   ]
  },
  {
   "cell_type": "code",
   "execution_count": 9,
   "metadata": {},
   "outputs": [
    {
     "name": "stdout",
     "output_type": "stream",
     "text": [
      "3 * 1 = 3\n",
      "3 * 2 = 6\n",
      "3 * 3 = 9\n",
      "3 * 4 = 12\n",
      "3 * 5 = 15\n",
      "3 * 6 = 18\n",
      "3 * 7 = 21\n",
      "3 * 8 = 24\n",
      "3 * 9 = 27\n",
      "3 * 10 = 30\n"
     ]
    }
   ],
   "source": [
    "number = 1\n",
    "\n",
    "while number <= 10:\n",
    "    print(f'3 * {number} = {number * 3}')\n",
    "    number += 1"
   ]
  },
  {
   "cell_type": "code",
   "execution_count": null,
   "metadata": {},
   "outputs": [],
   "source": []
  }
 ],
 "metadata": {
  "kernelspec": {
   "display_name": "Python 3",
   "language": "python",
   "name": "python3"
  },
  "language_info": {
   "codemirror_mode": {
    "name": "ipython",
    "version": 3
   },
   "file_extension": ".py",
   "mimetype": "text/x-python",
   "name": "python",
   "nbconvert_exporter": "python",
   "pygments_lexer": "ipython3",
   "version": "3.9.12"
  },
  "orig_nbformat": 4
 },
 "nbformat": 4,
 "nbformat_minor": 2
}
