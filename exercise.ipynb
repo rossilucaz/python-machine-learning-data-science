{
 "cells": [
  {
   "cell_type": "markdown",
   "metadata": {},
   "source": [
    "# Exercise 1"
   ]
  },
  {
   "cell_type": "markdown",
   "metadata": {},
   "source": [
    "## 1.1"
   ]
  },
  {
   "cell_type": "code",
   "execution_count": null,
   "metadata": {},
   "outputs": [],
   "source": [
    "values = []\n",
    "for i in range(2):\n",
    "    value = float(input(f'Enter Value{i+1}: '))\n",
    "    values.append(value)\n"
   ]
  },
  {
   "cell_type": "code",
   "execution_count": null,
   "metadata": {},
   "outputs": [],
   "source": [
    "\n",
    "addition = values[0] + values[1]    \n",
    "subtraction = values[0] - values[1]\n",
    "multiplication = values[0] * values[1]\n",
    "division = values[0] / values[1]\n",
    "print(f'Addition: {addition}\\nSubtration: {subtraction}\\nMultiplication: {multiplication}\\nDivision: {division}')"
   ]
  },
  {
   "cell_type": "markdown",
   "metadata": {},
   "source": [
    "## 1.2"
   ]
  },
  {
   "cell_type": "code",
   "execution_count": null,
   "metadata": {},
   "outputs": [],
   "source": [
    "car_consumed = 12 # kilometers per liter\n",
    "time = float(input('Traveling time'))\n",
    "speed = int(input('Average travel speed'))\n",
    "distance = time * speed\n",
    "liter_cosumed = distance / 12\n",
    "liter_cosumed"
   ]
  },
  {
   "cell_type": "markdown",
   "metadata": {},
   "source": [
    "## Exercise 2 "
   ]
  },
  {
   "cell_type": "markdown",
   "metadata": {},
   "source": [
    "## 2.1"
   ]
  },
  {
   "cell_type": "code",
   "execution_count": null,
   "metadata": {},
   "outputs": [],
   "source": [
    "age = int(input('Enter your age: ')) #0 12 kid teen 13 17 adulto: +18\n",
    "if age < 0:\n",
    "    print('Enter a valid age')\n",
    "elif age >= 0 and age <= 12:\n",
    "    print('You are a Kid')\n",
    "elif age >= 13 and age <= 17:\n",
    "    print('You are a teenager')\n",
    "else:\n",
    "    print('You are a adult')"
   ]
  },
  {
   "cell_type": "markdown",
   "metadata": {},
   "source": [
    "## 2.2"
   ]
  },
  {
   "cell_type": "code",
   "execution_count": null,
   "metadata": {},
   "outputs": [],
   "source": [
    "grade = []\n",
    "for i in range(3):\n",
    "    marks = float(input(f'Enter your {i+1} note: '))   \n",
    "    grade.append(marks)"
   ]
  },
  {
   "cell_type": "code",
   "execution_count": null,
   "metadata": {},
   "outputs": [],
   "source": [
    "average = (grade[0] + grade[1] + grade[2]) / 3"
   ]
  },
  {
   "cell_type": "code",
   "execution_count": null,
   "metadata": {},
   "outputs": [],
   "source": [
    "if average < 0:\n",
    "    print(' Sorry, but something wrong with you, grade negative is serious')\n",
    "elif average == 0 and average <= 4:\n",
    "    print('bad you failed')\n",
    "elif average >= 4.1 and average <= 6:\n",
    "    print('ok, now receive a test')\n",
    "elif average >= 7 and average <= 10:\n",
    "    print('great you passed')\n",
    "else:\n",
    "    print('greater than 10, impossible')\n",
    "    "
   ]
  },
  {
   "cell_type": "markdown",
   "metadata": {},
   "source": [
    "# Exercise 3"
   ]
  },
  {
   "cell_type": "markdown",
   "metadata": {},
   "source": [
    "## 3.1"
   ]
  },
  {
   "cell_type": "code",
   "execution_count": null,
   "metadata": {},
   "outputs": [],
   "source": [
    "for i in range(5):\n",
    "    note = float(input(f'Enter with 5 grade {i+1}: '))\n",
    "    mean = note / 5\n",
    "print(mean)\n",
    "\n",
    "\n"
   ]
  },
  {
   "cell_type": "code",
   "execution_count": null,
   "metadata": {},
   "outputs": [],
   "source": [
    "numbers = 1\n",
    "sum_note = 0\n",
    "while numbers <= 5:\n",
    "    note = float(input('Enter with a grade: '))\n",
    "    sum_note += note\n",
    "    numbers += 1\n",
    "print('The average is: ', sum_note / 5)"
   ]
  },
  {
   "cell_type": "markdown",
   "metadata": {},
   "source": [
    "## 3.2"
   ]
  },
  {
   "cell_type": "code",
   "execution_count": null,
   "metadata": {},
   "outputs": [],
   "source": [
    "for i in range(1,11):\n",
    "    print(f'3 * {i} = {i * 3}')\n",
    "    \n"
   ]
  },
  {
   "cell_type": "code",
   "execution_count": null,
   "metadata": {},
   "outputs": [],
   "source": [
    "number = 1\n",
    "\n",
    "while number <= 10:\n",
    "    print(f'3 * {number} = {number * 3}')\n",
    "    number += 1"
   ]
  },
  {
   "cell_type": "markdown",
   "metadata": {},
   "source": [
    "# Exercise 4 "
   ]
  },
  {
   "cell_type": "code",
   "execution_count": null,
   "metadata": {},
   "outputs": [],
   "source": [
    "import numpy as np"
   ]
  },
  {
   "cell_type": "markdown",
   "metadata": {},
   "source": [
    "## 4.1"
   ]
  },
  {
   "cell_type": "code",
   "execution_count": null,
   "metadata": {},
   "outputs": [],
   "source": [
    "list = []\n",
    "for i in range(5):\n",
    "    user = int(input('Enter 5 numbers'))\n",
    "    list.append(user)\n",
    "    \n",
    "result = 0\n",
    "for i in list:\n",
    "    result += i\n",
    "print(result)"
   ]
  },
  {
   "cell_type": "code",
   "execution_count": null,
   "metadata": {},
   "outputs": [],
   "source": [
    "np.array(list).sum()"
   ]
  },
  {
   "cell_type": "markdown",
   "metadata": {},
   "source": [
    "## 4.2"
   ]
  },
  {
   "cell_type": "code",
   "execution_count": null,
   "metadata": {},
   "outputs": [],
   "source": [
    "dic = {'Lyttle': 3, 'Lucas': 7, 'Rossi': 10}"
   ]
  },
  {
   "cell_type": "code",
   "execution_count": null,
   "metadata": {},
   "outputs": [],
   "source": [
    "for i, ii in dic.items():\n",
    "    print(f'Students {i}, grade = {ii}')\n",
    "    total = sum(dic.values())\n",
    "    average = total / len(dic)\n",
    "\n",
    "print(f'The average is {average}')\n",
    "    "
   ]
  },
  {
   "cell_type": "code",
   "execution_count": null,
   "metadata": {},
   "outputs": [],
   "source": [
    "students = {}\n",
    "for i in range(3):\n",
    "    name = str(input('Enter name:'))\n",
    "    grade = float(input('Enter note: '))\n",
    "    students[name] = grade"
   ]
  },
  {
   "cell_type": "code",
   "execution_count": null,
   "metadata": {},
   "outputs": [],
   "source": [
    "students"
   ]
  },
  {
   "cell_type": "code",
   "execution_count": null,
   "metadata": {},
   "outputs": [],
   "source": [
    "result_sum = 0\n",
    "for i in students.values():\n",
    "    result_sum += i\n",
    "print('Mean', result_sum / 3)\n",
    "    "
   ]
  },
  {
   "cell_type": "code",
   "execution_count": null,
   "metadata": {},
   "outputs": [],
   "source": [
    "students.values()"
   ]
  },
  {
   "cell_type": "markdown",
   "metadata": {},
   "source": [
    "## 4.3"
   ]
  },
  {
   "cell_type": "code",
   "execution_count": null,
   "metadata": {},
   "outputs": [],
   "source": [
    "matrix = np.array([[3, 4, 1],\n",
    "                   [3, 1, 5]])"
   ]
  },
  {
   "cell_type": "code",
   "execution_count": null,
   "metadata": {},
   "outputs": [],
   "source": [
    "reuslt_sum = 0\n",
    "for i in range(matrix.shape[0]):\n",
    "    for ii in range(matrix.shape[1]):\n",
    "        reuslt_sum += matrix[i][ii]\n",
    "print(reuslt_sum)"
   ]
  },
  {
   "cell_type": "markdown",
   "metadata": {},
   "source": [
    "# Exercise 5"
   ]
  },
  {
   "cell_type": "markdown",
   "metadata": {},
   "source": [
    "## Exercise 5.1"
   ]
  },
  {
   "cell_type": "code",
   "execution_count": null,
   "metadata": {},
   "outputs": [],
   "source": [
    "def read_temp():\n",
    "    return float(input('Enter a temperature in degrees Celsius: '))"
   ]
  },
  {
   "cell_type": "code",
   "execution_count": null,
   "metadata": {},
   "outputs": [],
   "source": [
    "temperature_celsius = read_temp()\n",
    "temperature_celsius"
   ]
  },
  {
   "cell_type": "code",
   "execution_count": null,
   "metadata": {},
   "outputs": [],
   "source": [
    "def convert(temperature_celsius):\n",
    "    temperature_fahrenheit = (9 * temperature_celsius + 160) / 5\n",
    "    return temperature_fahrenheit\n"
   ]
  },
  {
   "cell_type": "code",
   "execution_count": null,
   "metadata": {},
   "outputs": [],
   "source": [
    "temperature_fahrenheit = convert(temperature_celsius)"
   ]
  },
  {
   "cell_type": "code",
   "execution_count": null,
   "metadata": {},
   "outputs": [],
   "source": [
    "def show(temperature_fahrenheit):\n",
    "    print(temperature_fahrenheit)"
   ]
  },
  {
   "cell_type": "code",
   "execution_count": null,
   "metadata": {},
   "outputs": [],
   "source": [
    "show(temperature_fahrenheit)\n"
   ]
  },
  {
   "cell_type": "markdown",
   "metadata": {},
   "source": [
    "## 5.2"
   ]
  },
  {
   "cell_type": "code",
   "execution_count": null,
   "metadata": {},
   "outputs": [],
   "source": [
    "def read():\n",
    "    time_trip = float(input('Enter the trip time '))\n",
    "    speed_mean = float(input('Enter speed average'))\n",
    "    return time_trip, speed_mean"
   ]
  },
  {
   "cell_type": "code",
   "execution_count": null,
   "metadata": {},
   "outputs": [],
   "source": [
    "def calculate_distance(time_trip, speed_mean):\n",
    "    return time_trip * speed_mean"
   ]
  },
  {
   "cell_type": "code",
   "execution_count": null,
   "metadata": {},
   "outputs": [],
   "source": [
    "def distance_liters(distance):\n",
    "    return distance / 12"
   ]
  },
  {
   "cell_type": "code",
   "execution_count": null,
   "metadata": {},
   "outputs": [],
   "source": [
    "def show(speed_mean, time_trip, distance, liters):\n",
    "    print(f'speed = {speed_mean}')\n",
    "    print(f'Time = {time_trip}')\n",
    "    print(f'Distancia = {distance}')\n",
    "    print(f'Litros = {liters}')"
   ]
  },
  {
   "cell_type": "code",
   "execution_count": null,
   "metadata": {},
   "outputs": [],
   "source": [
    "time_trip, speed_mean = read()\n",
    "distance = calculate_distance(time_trip, speed_mean)\n",
    "liters = distance_liters(distance)\n",
    "show(speed_mean, time_trip, distance, liters)"
   ]
  },
  {
   "cell_type": "markdown",
   "metadata": {},
   "source": [
    "# Exercise 6"
   ]
  },
  {
   "cell_type": "code",
   "execution_count": 2,
   "metadata": {},
   "outputs": [],
   "source": [
    "import utilities as ut"
   ]
  },
  {
   "cell_type": "code",
   "execution_count": null,
   "metadata": {},
   "outputs": [],
   "source": [
    "ut.read()"
   ]
  },
  {
   "cell_type": "code",
   "execution_count": 4,
   "metadata": {},
   "outputs": [
    {
     "data": {
      "text/plain": [
       "5.0"
      ]
     },
     "execution_count": 4,
     "metadata": {},
     "output_type": "execute_result"
    }
   ],
   "source": [
    "a = ut.read_float('Enter float number: ')\n",
    "a"
   ]
  },
  {
   "cell_type": "markdown",
   "metadata": {},
   "source": [
    "# Exercise 7 "
   ]
  },
  {
   "cell_type": "code",
   "execution_count": 1,
   "metadata": {},
   "outputs": [
    {
     "ename": "SyntaxError",
     "evalue": "'break' outside loop (289222235.py, line 17)",
     "output_type": "error",
     "traceback": [
      "\u001b[1;36m  Input \u001b[1;32mIn [1]\u001b[1;36m\u001b[0m\n\u001b[1;33m    break\u001b[0m\n\u001b[1;37m    ^\u001b[0m\n\u001b[1;31mSyntaxError\u001b[0m\u001b[1;31m:\u001b[0m 'break' outside loop\n"
     ]
    }
   ],
   "source": [
    "empty_list = []\n",
    "\n",
    "try:\n",
    "    empty_list.append(float(input('Enter the first value ')))\n",
    "    empty_list.append(float(input('Enter the second value ')))\n",
    "    division_value = empty_list[0] / empty_list[1]\n",
    "except ValueError:\n",
    "    print('Invalid value')\n",
    "except ZeroDivisionError:\n",
    "        print('Enter a value different from 0 ')\n",
    "except IndexError:\n",
    "    print('Position doest exist')\n",
    "except KeyboardInterrupt:\n",
    "    print('The user interrupted the execution')\n",
    "else: \n",
    "    print(f'The average is {division_value}')\n"
   ]
  },
  {
   "cell_type": "code",
   "execution_count": null,
   "metadata": {},
   "outputs": [],
   "source": []
  },
  {
   "cell_type": "code",
   "execution_count": null,
   "metadata": {},
   "outputs": [],
   "source": []
  }
 ],
 "metadata": {
  "kernelspec": {
   "display_name": "Python 3",
   "language": "python",
   "name": "python3"
  },
  "language_info": {
   "codemirror_mode": {
    "name": "ipython",
    "version": 3
   },
   "file_extension": ".py",
   "mimetype": "text/x-python",
   "name": "python",
   "nbconvert_exporter": "python",
   "pygments_lexer": "ipython3",
   "version": "3.9.12"
  },
  "orig_nbformat": 4
 },
 "nbformat": 4,
 "nbformat_minor": 2
}
