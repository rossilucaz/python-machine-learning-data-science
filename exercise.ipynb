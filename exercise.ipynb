{
 "cells": [
  {
   "cell_type": "markdown",
   "metadata": {},
   "source": [
    "# Exercise 1"
   ]
  },
  {
   "cell_type": "markdown",
   "metadata": {},
   "source": [
    "## 1.1"
   ]
  },
  {
   "cell_type": "code",
   "execution_count": 10,
   "metadata": {},
   "outputs": [],
   "source": [
    "values = []\n",
    "for i in range(2):\n",
    "    value = float(input(f'Enter Value{i+1}: '))\n",
    "    values.append(value)\n"
   ]
  },
  {
   "cell_type": "code",
   "execution_count": 12,
   "metadata": {},
   "outputs": [
    {
     "name": "stdout",
     "output_type": "stream",
     "text": [
      "Addition: 7.0\n",
      "Subtration: 1.0\n",
      "Multiplication: 12.0\n",
      "Division: 1.3333333333333333 \n"
     ]
    }
   ],
   "source": [
    "\n",
    "addition = values[0] + values[1]    \n",
    "subtraction = values[0] - values[1]\n",
    "multiplication = values[0] * values[1]\n",
    "division = values[0] / values[1]\n",
    "print(f'Addition: {addition}\\nSubtration: {subtraction}\\nMultiplication: {multiplication}\\nDivision: {division} ')"
   ]
  },
  {
   "cell_type": "markdown",
   "metadata": {},
   "source": [
    "## 1.2"
   ]
  },
  {
   "cell_type": "code",
   "execution_count": 18,
   "metadata": {},
   "outputs": [
    {
     "data": {
      "text/plain": [
       "25.0"
      ]
     },
     "execution_count": 18,
     "metadata": {},
     "output_type": "execute_result"
    }
   ],
   "source": [
    "car_consumed = 12 # kilometers per liter\n",
    "time = float(input('Traveling time'))\n",
    "speed = int(input('Average travel speed'))\n",
    "distance = time * speed\n",
    "liter_cosumed = distance / 12\n",
    "liter_cosumed"
   ]
  },
  {
   "cell_type": "code",
   "execution_count": null,
   "metadata": {},
   "outputs": [],
   "source": []
  }
 ],
 "metadata": {
  "kernelspec": {
   "display_name": "Python 3",
   "language": "python",
   "name": "python3"
  },
  "language_info": {
   "codemirror_mode": {
    "name": "ipython",
    "version": 3
   },
   "file_extension": ".py",
   "mimetype": "text/x-python",
   "name": "python",
   "nbconvert_exporter": "python",
   "pygments_lexer": "ipython3",
   "version": "3.9.12"
  },
  "orig_nbformat": 4
 },
 "nbformat": 4,
 "nbformat_minor": 2
}
